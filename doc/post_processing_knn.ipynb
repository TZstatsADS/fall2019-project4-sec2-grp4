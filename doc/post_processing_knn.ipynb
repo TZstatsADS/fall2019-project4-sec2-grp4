{
 "cells": [
  {
   "cell_type": "code",
   "execution_count": 52,
   "metadata": {},
   "outputs": [],
   "source": [
    "from sklearn.neighbors import KNeighborsRegressor\n",
    "from sklearn.model_selection import GridSearchCV\n",
    "from sklearn.linear_model import LinearRegression\n",
    "import pandas as pd\n",
    "import numpy as np\n",
    "from itertools import chain\n",
    "import math"
   ]
  },
  {
   "cell_type": "markdown",
   "metadata": {},
   "source": [
    "## Post processing using KNN"
   ]
  },
  {
   "cell_type": "code",
   "execution_count": 3,
   "metadata": {},
   "outputs": [],
   "source": [
    "# import dataset\n",
    "q = pd.read_csv('../output/q.csv')\n",
    "q.drop(['Unnamed: 0'], axis = 1, inplace=True)\n",
    "\n",
    "# convert dataframe into a matrix\n",
    "q_mat = q.to_numpy()\n",
    "q_mat = np.transpose(q_mat)"
   ]
  },
  {
   "cell_type": "code",
   "execution_count": 4,
   "metadata": {},
   "outputs": [],
   "source": [
    "# calculate mean rating for each movie\n",
    "rating = pd.read_csv('../data/ml-latest-small/ratings.csv')\n",
    "rating = rating[['movieId','rating']]\n",
    "y = rating.groupby(['movieId']).mean()"
   ]
  },
  {
   "cell_type": "markdown",
   "metadata": {},
   "source": [
    "### Choose the optimal K using CV"
   ]
  },
  {
   "cell_type": "code",
   "execution_count": 5,
   "metadata": {},
   "outputs": [
    {
     "data": {
      "text/plain": [
       "GridSearchCV(cv=5, error_score='raise-deprecating',\n",
       "             estimator=KNeighborsRegressor(algorithm='brute', leaf_size=30,\n",
       "                                           metric='cosine', metric_params=None,\n",
       "                                           n_jobs=None, n_neighbors=5, p=2,\n",
       "                                           weights='uniform'),\n",
       "             iid='warn', n_jobs=None,\n",
       "             param_grid={'n_neighbors': array([60, 61, 62, 63, 64, 65, 66, 67, 68, 69, 70, 71, 72, 73, 74, 75, 76,\n",
       "       77, 78, 79, 80, 81, 82, 83, 84, 85, 86, 87, 88, 89, 90, 91, 92, 93,\n",
       "       94, 95, 96, 97, 98, 99])},\n",
       "             pre_dispatch='2*n_jobs', refit=True, return_train_score=False,\n",
       "             scoring=None, verbose=0)"
      ]
     },
     "execution_count": 5,
     "metadata": {},
     "output_type": "execute_result"
    }
   ],
   "source": [
    "# create a KNN regression model\n",
    "knn_model = KNeighborsRegressor(metric = 'cosine', algorithm='brute')\n",
    "\n",
    "# define parameters\n",
    "param_grid = {'n_neighbors': np.arange(60, 100)}\n",
    "\n",
    "# create grid search CV\n",
    "knn_gscv = GridSearchCV(knn_model, param_grid, cv=5)\n",
    "\n",
    "# fit to our data\n",
    "knn_gscv.fit(q_mat, y)"
   ]
  },
  {
   "cell_type": "code",
   "execution_count": 6,
   "metadata": {},
   "outputs": [
    {
     "data": {
      "text/plain": [
       "{'n_neighbors': 88}"
      ]
     },
     "execution_count": 6,
     "metadata": {},
     "output_type": "execute_result"
    }
   ],
   "source": [
    "# the best knn parameter\n",
    "knn_gscv.best_params_"
   ]
  },
  {
   "cell_type": "code",
   "execution_count": 7,
   "metadata": {},
   "outputs": [],
   "source": [
    "# make predictions\n",
    "rating_pred = knn_gscv.predict(q_mat)"
   ]
  },
  {
   "cell_type": "code",
   "execution_count": 8,
   "metadata": {},
   "outputs": [
    {
     "data": {
      "text/plain": [
       "rating    0.744901\n",
       "dtype: float64"
      ]
     },
     "execution_count": 8,
     "metadata": {},
     "output_type": "execute_result"
    }
   ],
   "source": [
    "# compute MSE of KNN\n",
    "(((rating_pred - y )**2).sum()) / len(y)"
   ]
  },
  {
   "cell_type": "markdown",
   "metadata": {},
   "source": [
    "## Combine all component to fit Linear Regression\n",
    "\n",
    "In this step, we will combine all the component, including $p_i^Tq_i$, $b_i$, $b_u$, $b_{i,Bin(t)}$, and $KNN$, to construct a linear regression function to make predictions for the ratings."
   ]
  },
  {
   "cell_type": "code",
   "execution_count": 9,
   "metadata": {},
   "outputs": [],
   "source": [
    "## fit linear regression function on all component\n",
    "# import data\n",
    "p = pd.read_csv('../output/p.csv')\n",
    "b_user = pd.read_csv('../output/b_user.csv')\n",
    "b_movie = pd.read_csv('../output/b_movie.csv')\n",
    "mu = pd.read_csv('../output/mu.csv')\n",
    "b_bin = pd.read_csv('../output/b_bin.csv')"
   ]
  },
  {
   "cell_type": "code",
   "execution_count": 10,
   "metadata": {},
   "outputs": [],
   "source": [
    "# clean data\n",
    "p.drop(['Unnamed: 0'], axis = 1, inplace=True)\n",
    "b_user.drop(['Unnamed: 0'], axis = 1, inplace=True)\n",
    "b_movie.drop(['Unnamed: 0'], axis = 1, inplace=True)\n",
    "b_bin.drop(['Unnamed: 0'], axis = 1, inplace=True)\n",
    "\n",
    "# convert into matrix\n",
    "p_mat = p.to_numpy()\n",
    "b_user_mat = b_user.to_numpy()\n",
    "b_movie_mat = b_movie.to_numpy()\n",
    "b_bin_mat = b_bin.to_numpy()"
   ]
  },
  {
   "cell_type": "code",
   "execution_count": 12,
   "metadata": {},
   "outputs": [],
   "source": [
    "# comput interaction matrix\n",
    "interaction = np.matmul(q_mat, p_mat)"
   ]
  },
  {
   "cell_type": "markdown",
   "metadata": {},
   "source": [
    "### Flatten every component to single column vector in order to do Linear Regression\n",
    "\n",
    "In our case, our data has three dimension, which are 9724 movies, 610 users, and 30 bins, we want to flatten each component into a $(9724*610*30)*1$ column vector in order to constrcut the linear regression function."
   ]
  },
  {
   "cell_type": "code",
   "execution_count": 13,
   "metadata": {},
   "outputs": [],
   "source": [
    "# flatten interaction matrix\n",
    "inter_flat = []\n",
    "\n",
    "for col in range(interaction.shape[1]):\n",
    "    inter_flat.append(interaction[:,col].tolist())\n",
    "    \n",
    "li = list(chain.from_iterable(inter_flat))\n",
    "\n",
    "# repeat for 30 times\n",
    "inter_flat_time = []\n",
    "for i in range(30):\n",
    "    for ele in li:\n",
    "        inter_flat_time.append(ele)"
   ]
  },
  {
   "cell_type": "code",
   "execution_count": 15,
   "metadata": {
    "scrolled": true
   },
   "outputs": [],
   "source": [
    "# repear b_user for every movie\n",
    "b_user_flat = []\n",
    "for ele in b_user_mat.tolist():\n",
    "    for i in range(9724):\n",
    "        b_user_flat.append(ele)\n",
    "        \n",
    "b_user_flat = list(chain.from_iterable(b_user_flat))\n",
    "\n",
    "# repeat for 30 times\n",
    "b_user_flat_time = []\n",
    "for i in range(30):\n",
    "    for ele in b_user_flat:\n",
    "        b_user_flat_time.append(ele)"
   ]
  },
  {
   "cell_type": "code",
   "execution_count": 17,
   "metadata": {},
   "outputs": [],
   "source": [
    "# repear b_movie for every user\n",
    "b_movie_flat = []\n",
    "for i in range(610):\n",
    "    b_movie_flat.append(b_movie_mat[:,0].tolist())\n",
    "        \n",
    "b_movie_flat = list(chain.from_iterable(b_movie_flat))\n",
    "\n",
    "# repeat for 30 times\n",
    "b_movie_flat_time = []\n",
    "for i in range(30):\n",
    "    for ele in b_movie_flat:\n",
    "        b_movie_flat_time.append(ele)"
   ]
  },
  {
   "cell_type": "code",
   "execution_count": 19,
   "metadata": {},
   "outputs": [],
   "source": [
    "# repear KNN for every user\n",
    "rating_pred_flat = []\n",
    "for i in range(610):\n",
    "    rating_pred_flat.append(rating_pred[:,0].tolist())\n",
    "        \n",
    "rating_pred_flat = list(chain.from_iterable(rating_pred_flat))\n",
    "\n",
    "# repeat for 30 times\n",
    "rating_pred_flat_time = []\n",
    "for i in range(30):\n",
    "    for ele in rating_pred_flat:\n",
    "        rating_pred_flat_time.append(ele)"
   ]
  },
  {
   "cell_type": "code",
   "execution_count": 21,
   "metadata": {},
   "outputs": [],
   "source": [
    "# flatten b_bin for 30 bins\n",
    "b_bin_mat = np.transpose(b_bin_mat)\n",
    "b_bin_flat = []\n",
    "\n",
    "for col in range(30):\n",
    "    for i in range(610):\n",
    "        b_bin_flat.append(b_bin_mat[:,col].tolist())\n",
    "\n",
    "b_bin_flat = list(chain.from_iterable(b_bin_flat))"
   ]
  },
  {
   "cell_type": "code",
   "execution_count": 23,
   "metadata": {},
   "outputs": [],
   "source": [
    "# calcualte y vec for linear regression\n",
    "y_mat = y.to_numpy()\n",
    "y_flat = []\n",
    "for i in range(610):\n",
    "    y_flat.append(y_mat[:,0].tolist())\n",
    "        \n",
    "y_flat = list(chain.from_iterable(y_flat))\n",
    "\n",
    "# repeat for 30 times\n",
    "y_flat_time = []\n",
    "for i in range(30):\n",
    "    for ele in y_flat:\n",
    "        y_flat_time.append(ele)"
   ]
  },
  {
   "cell_type": "code",
   "execution_count": 27,
   "metadata": {},
   "outputs": [],
   "source": [
    "# combine all component into X matrix \n",
    "inter_df = pd.DataFrame(inter_flat_time, columns = ['Interaction'])\n",
    "b_user_df =  pd.DataFrame(b_user_flat_time, columns = ['b_user'])\n",
    "b_movie_df =  pd.DataFrame(b_movie_flat_time, columns = ['b_movie'])\n",
    "b_bin_df =  pd.DataFrame(b_bin_flat, columns = ['b_bin'])\n",
    "knn_df =  pd.DataFrame(rating_pred_flat_time, columns = ['KNN'])\n",
    "\n",
    "X = pd.concat([inter_df, b_user_df, b_movie_df, b_bin_df, knn_df], axis = 1, sort=False)"
   ]
  },
  {
   "cell_type": "code",
   "execution_count": 34,
   "metadata": {},
   "outputs": [],
   "source": [
    "# fit linear regression\n",
    "reg = LinearRegression().fit(X,y_flat_time)"
   ]
  },
  {
   "cell_type": "code",
   "execution_count": 38,
   "metadata": {},
   "outputs": [],
   "source": [
    "# make predictions\n",
    "y_pred = reg.predict(X)"
   ]
  },
  {
   "cell_type": "code",
   "execution_count": 51,
   "metadata": {},
   "outputs": [],
   "source": [
    "# compute MSE\n",
    "mse = (((y_pred - np.array(y_flat_time ))**2).sum()) / len(y_flat_time)"
   ]
  },
  {
   "cell_type": "code",
   "execution_count": 54,
   "metadata": {},
   "outputs": [
    {
     "data": {
      "text/plain": [
       "0.7590015152883188"
      ]
     },
     "execution_count": 54,
     "metadata": {},
     "output_type": "execute_result"
    }
   ],
   "source": [
    "# compute RMSE\n",
    "RMSE = math.sqrt(mse)\n",
    "RMSE"
   ]
  }
 ],
 "metadata": {
  "kernelspec": {
   "display_name": "Python 3",
   "language": "python",
   "name": "python3"
  },
  "language_info": {
   "codemirror_mode": {
    "name": "ipython",
    "version": 3
   },
   "file_extension": ".py",
   "mimetype": "text/x-python",
   "name": "python",
   "nbconvert_exporter": "python",
   "pygments_lexer": "ipython3",
   "version": "3.7.3"
  }
 },
 "nbformat": 4,
 "nbformat_minor": 2
}
